{
 "cells": [
  {
   "cell_type": "code",
   "execution_count": 1,
   "metadata": {},
   "outputs": [],
   "source": [
    "import numpy as np\n",
    "import pandas as pd"
   ]
  },
  {
   "cell_type": "code",
   "execution_count": 2,
   "metadata": {},
   "outputs": [],
   "source": [
    "batch_size = 1000\n",
    "learning_rate = 0.000001\n",
    "num_of_epoch = 10000\n",
    "test_training_ratio = 0.2\n",
    "dataset_path = './dataset/dataset_csv.csv'"
   ]
  },
  {
   "cell_type": "code",
   "execution_count": 3,
   "metadata": {},
   "outputs": [
    {
     "data": {
      "text/html": [
       "<div>\n",
       "<style scoped>\n",
       "    .dataframe tbody tr th:only-of-type {\n",
       "        vertical-align: middle;\n",
       "    }\n",
       "\n",
       "    .dataframe tbody tr th {\n",
       "        vertical-align: top;\n",
       "    }\n",
       "\n",
       "    .dataframe thead th {\n",
       "        text-align: right;\n",
       "    }\n",
       "</style>\n",
       "<table border=\"1\" class=\"dataframe\">\n",
       "  <thead>\n",
       "    <tr style=\"text-align: right;\">\n",
       "      <th></th>\n",
       "      <th>AT</th>\n",
       "      <th>V</th>\n",
       "      <th>AP</th>\n",
       "      <th>RH</th>\n",
       "      <th>PE</th>\n",
       "    </tr>\n",
       "  </thead>\n",
       "  <tbody>\n",
       "    <tr>\n",
       "      <th>0</th>\n",
       "      <td>8.34</td>\n",
       "      <td>40.77</td>\n",
       "      <td>1010.84</td>\n",
       "      <td>90.01</td>\n",
       "      <td>480.48</td>\n",
       "    </tr>\n",
       "    <tr>\n",
       "      <th>1</th>\n",
       "      <td>23.64</td>\n",
       "      <td>58.49</td>\n",
       "      <td>1011.40</td>\n",
       "      <td>74.20</td>\n",
       "      <td>445.75</td>\n",
       "    </tr>\n",
       "    <tr>\n",
       "      <th>2</th>\n",
       "      <td>29.74</td>\n",
       "      <td>56.90</td>\n",
       "      <td>1007.15</td>\n",
       "      <td>41.91</td>\n",
       "      <td>438.76</td>\n",
       "    </tr>\n",
       "    <tr>\n",
       "      <th>3</th>\n",
       "      <td>19.07</td>\n",
       "      <td>49.69</td>\n",
       "      <td>1007.22</td>\n",
       "      <td>76.79</td>\n",
       "      <td>453.09</td>\n",
       "    </tr>\n",
       "    <tr>\n",
       "      <th>4</th>\n",
       "      <td>11.80</td>\n",
       "      <td>40.66</td>\n",
       "      <td>1017.13</td>\n",
       "      <td>97.20</td>\n",
       "      <td>464.43</td>\n",
       "    </tr>\n",
       "  </tbody>\n",
       "</table>\n",
       "</div>"
      ],
      "text/plain": [
       "      AT      V       AP     RH      PE\n",
       "0   8.34  40.77  1010.84  90.01  480.48\n",
       "1  23.64  58.49  1011.40  74.20  445.75\n",
       "2  29.74  56.90  1007.15  41.91  438.76\n",
       "3  19.07  49.69  1007.22  76.79  453.09\n",
       "4  11.80  40.66  1017.13  97.20  464.43"
      ]
     },
     "execution_count": 3,
     "metadata": {},
     "output_type": "execute_result"
    }
   ],
   "source": [
    "df = pd.read_csv(dataset_path) #read the dataset\n",
    "df.head()"
   ]
  },
  {
   "cell_type": "code",
   "execution_count": 4,
   "metadata": {},
   "outputs": [],
   "source": [
    "total_X = df.iloc[:, :-1].values #total_X is a matrix the size of 9568 X 4\n",
    "total_y = df.iloc[:, -1].values  #total_Y is a vector the size of 9568"
   ]
  },
  {
   "cell_type": "code",
   "execution_count": 5,
   "metadata": {},
   "outputs": [
    {
     "name": "stdout",
     "output_type": "stream",
     "text": [
      "[[1.00000e+00 8.34000e+00 4.07700e+01 1.01084e+03 9.00100e+01]\n",
      " [1.00000e+00 2.36400e+01 5.84900e+01 1.01140e+03 7.42000e+01]\n",
      " [1.00000e+00 2.97400e+01 5.69000e+01 1.00715e+03 4.19100e+01]\n",
      " [1.00000e+00 1.90700e+01 4.96900e+01 1.00722e+03 7.67900e+01]\n",
      " [1.00000e+00 1.18000e+01 4.06600e+01 1.01713e+03 9.72000e+01]]\n"
     ]
    }
   ],
   "source": [
    "b = np.ones((total_X.shape[0],total_X.shape[1]+1)) # b is a 9568 X 5 matrix filled with ones.\n",
    "b[:, 1:] = total_X #b is the total_X matrix except with first column filled with ones\n",
    "total_X = b #reassign\n",
    "print(total_X[:5])"
   ]
  },
  {
   "cell_type": "code",
   "execution_count": 6,
   "metadata": {},
   "outputs": [],
   "source": [
    "#in order for us to verify the accuracy later, we will reserve about 20% of the whole dataset.\n",
    "num_of_testing_example    = int(test_training_ratio*total_X.shape[0]) # (20/100) * 9568 = 1913.6. After flooring, 1913\n",
    "num_of_training_example   = total_X.shape[0] - num_of_testing_example # 9568 - 1913 = 7655\n",
    "X                         = total_X[:num_of_training_example] #matrix of size 7655 X 4. input X (according to the pdf note)\n",
    "y                         = total_y[:num_of_training_example] #vector of size 7655. input y (according to the pdf note)\n",
    "X_test                    = total_X[num_of_training_example:] #matrix of size 1913 X 4\n",
    "y_test                    = total_y[num_of_training_example:] #vector of size 1913"
   ]
  },
  {
   "cell_type": "code",
   "execution_count": 7,
   "metadata": {},
   "outputs": [],
   "source": [
    "theta = np.random.rand((X.shape[1])) #randomly initialize theta as a vector of size 5"
   ]
  },
  {
   "cell_type": "code",
   "execution_count": 8,
   "metadata": {},
   "outputs": [],
   "source": [
    "def find_y_hat(data_point,theta):\n",
    "    '''\n",
    "    Parameters :\n",
    "    data_point : Batches of rows in the training set matrix\n",
    "    theta: theta vector\n",
    "\n",
    "    Process : matrix (data points) multiplies vector (theta) \n",
    "\n",
    "    Output : prediction of the model, y_hat or h(X)\n",
    "    '''\n",
    "    return np.dot(data_point, theta) "
   ]
  },
  {
   "cell_type": "code",
   "execution_count": 9,
   "metadata": {},
   "outputs": [
    {
     "name": "stdout",
     "output_type": "stream",
     "text": [
      "Testing loss :  55120.60536675611\n"
     ]
    }
   ],
   "source": [
    "def testing():\n",
    "    \n",
    "    diff = X_test.dot(theta) - y_test #calculate (h(x) - y)\n",
    "    \n",
    "    loss = (1/(2*X_test.shape[0]))*(diff.dot(diff)) #calculate the loss using the defined equation\n",
    "    \n",
    "    print(\"Testing loss : \", loss)\n",
    "\n",
    "testing() #run the testing before the training begins"
   ]
  },
  {
   "cell_type": "code",
   "execution_count": 10,
   "metadata": {},
   "outputs": [
    {
     "name": "stdout",
     "output_type": "stream",
     "text": [
      "Epoch :  0\n",
      "Loss :  54839.88671357097\n",
      "Epoch :  1000\n",
      "Loss :  49.94277561537955\n",
      "Epoch :  2000\n",
      "Loss :  31.298206821681976\n",
      "Epoch :  3000\n",
      "Loss :  27.32794839360615\n",
      "Epoch :  4000\n",
      "Loss :  25.211742373666564\n",
      "Epoch :  5000\n",
      "Loss :  23.52886720134371\n",
      "Epoch :  6000\n",
      "Loss :  22.089506234577374\n",
      "Epoch :  7000\n",
      "Loss :  20.846454078385648\n",
      "Epoch :  8000\n",
      "Loss :  19.771758230337596\n",
      "Epoch :  9000\n",
      "Loss :  18.842546445773362\n"
     ]
    }
   ],
   "source": [
    "for epoch in range(num_of_epoch):\n",
    "    \n",
    "    diff = X.dot(theta) - y #calculate (h(x) - y)\n",
    "    \n",
    "    loss = (1/(2*X.shape[0]))*(diff.dot(diff))  #calculate the loss using the defined equation\n",
    "    \n",
    "    for index_first in range(0, X.shape[0], batch_size): #loop through the dataset with the given batch size\n",
    "        \n",
    "        index_last = index_first + batch_size #index_first - index_last = batch size\n",
    "        index_last = None if index_last > X.shape[0] else index_last #if index_last > total no. of data points, it will be set to None\n",
    "        \n",
    "        y_hat = find_y_hat(X[index_first:index_last], theta) #predicted output\n",
    "        \n",
    "        m = y_hat.shape[0] # number of data points i.e. batch size\n",
    "        \n",
    "        y_hat_diff = y_hat - y[index_first:index_last] #calculate (h(x) - y)\n",
    "        \n",
    "        \n",
    "        for j in range(theta.shape[0]): #gradient descent\n",
    "        \n",
    "            x_j = X[index_first:index_last, j] #get the x_j vector for that specified batch size\n",
    "        \n",
    "            par_der = (1/m)*(y_hat_diff.dot(x_j)) #calculate the partial derivative\n",
    "            \n",
    "            theta[j] = theta[j] - learning_rate*par_der\n",
    "    \n",
    "    if epoch % 1000 == 0: #print loss for every 500 epoch starting from 0th epoch\n",
    "        print(\"Epoch : \", epoch)\n",
    "        print(\"Loss : \", loss)\n",
    "    "
   ]
  },
  {
   "cell_type": "code",
   "execution_count": 11,
   "metadata": {},
   "outputs": [
    {
     "name": "stdout",
     "output_type": "stream",
     "text": [
      "[ 0.30281359 -0.71658911 -0.72144305  0.49756628  0.04508065]\n"
     ]
    }
   ],
   "source": [
    "print(theta)"
   ]
  },
  {
   "cell_type": "code",
   "execution_count": 12,
   "metadata": {},
   "outputs": [
    {
     "name": "stdout",
     "output_type": "stream",
     "text": [
      "Testing loss :  17.878823308549265\n"
     ]
    }
   ],
   "source": [
    "testing() #as expected gradient descent optimization works slightly worse than the normal equation method."
   ]
  },
  {
   "cell_type": "code",
   "execution_count": 15,
   "metadata": {},
   "outputs": [
    {
     "data": {
      "text/plain": [
       "array([-1.89733071, -1.17424785, -2.08685487, ..., -0.20501947,\n",
       "        4.61016901,  1.33292009])"
      ]
     },
     "execution_count": 15,
     "metadata": {},
     "output_type": "execute_result"
    }
   ],
   "source": [
    "X_test.dot(theta)- y_test"
   ]
  },
  {
   "cell_type": "code",
   "execution_count": null,
   "metadata": {},
   "outputs": [],
   "source": []
  }
 ],
 "metadata": {
  "kernelspec": {
   "display_name": "nasa",
   "language": "python",
   "name": "nasa"
  },
  "language_info": {
   "codemirror_mode": {
    "name": "ipython",
    "version": 3
   },
   "file_extension": ".py",
   "mimetype": "text/x-python",
   "name": "python",
   "nbconvert_exporter": "python",
   "pygments_lexer": "ipython3",
   "version": "3.5.2"
  }
 },
 "nbformat": 4,
 "nbformat_minor": 2
}
